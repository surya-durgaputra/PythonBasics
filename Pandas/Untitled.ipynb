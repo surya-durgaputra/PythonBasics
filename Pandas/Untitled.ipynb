{
 "cells": [
  {
   "cell_type": "code",
   "execution_count": 1,
   "metadata": {},
   "outputs": [],
   "source": [
    "import pandas as pd"
   ]
  },
  {
   "cell_type": "code",
   "execution_count": 3,
   "metadata": {},
   "outputs": [],
   "source": [
    "a = pd.Series([1,2,3,4,5], name='myname')"
   ]
  },
  {
   "cell_type": "code",
   "execution_count": 13,
   "metadata": {},
   "outputs": [],
   "source": [
    "pop = pd.Series([100,99.2,90,88.4,85.3,80,75,73,69,65],\n",
    "          index=['Java','Python','C','C++','C#','Javascript','Scala','Ruby','Perl','Go'])"
   ]
  },
  {
   "cell_type": "code",
   "execution_count": 14,
   "metadata": {},
   "outputs": [
    {
     "data": {
      "text/plain": [
       "Java      100.0\n",
       "Python     99.2\n",
       "C          90.0\n",
       "C++        88.4\n",
       "C#         85.3\n",
       "dtype: float64"
      ]
     },
     "execution_count": 14,
     "metadata": {},
     "output_type": "execute_result"
    }
   ],
   "source": [
    "pop[:5]"
   ]
  },
  {
   "cell_type": "code",
   "execution_count": 15,
   "metadata": {},
   "outputs": [
    {
     "data": {
      "text/plain": [
       "Index(['Java', 'Python', 'C', 'C++', 'C#', 'Javascript', 'Scala', 'Ruby',\n",
       "       'Perl', 'Go'],\n",
       "      dtype='object')"
      ]
     },
     "execution_count": 15,
     "metadata": {},
     "output_type": "execute_result"
    }
   ],
   "source": [
    "pop.index"
   ]
  },
  {
   "cell_type": "code",
   "execution_count": 16,
   "metadata": {},
   "outputs": [
    {
     "data": {
      "text/plain": [
       "array([100. ,  99.2,  90. ,  88.4,  85.3,  80. ,  75. ,  73. ,  69. ,\n",
       "        65. ])"
      ]
     },
     "execution_count": 16,
     "metadata": {},
     "output_type": "execute_result"
    }
   ],
   "source": [
    "pop.values"
   ]
  },
  {
   "cell_type": "code",
   "execution_count": 17,
   "metadata": {},
   "outputs": [
    {
     "data": {
      "text/plain": [
       "Java      100.0\n",
       "Python     99.2\n",
       "C          90.0\n",
       "C++        88.4\n",
       "dtype: float64"
      ]
     },
     "execution_count": 17,
     "metadata": {},
     "output_type": "execute_result"
    }
   ],
   "source": [
    "pop['Java':'C++']"
   ]
  },
  {
   "cell_type": "code",
   "execution_count": 19,
   "metadata": {},
   "outputs": [
    {
     "name": "stdout",
     "output_type": "stream",
     "text": [
      "Java      100.0\n",
      "Python     99.2\n",
      "dtype: float64\n",
      "Java      100.0\n",
      "Python     99.2\n",
      "C          90.0\n",
      "C++        88.4\n",
      "dtype: float64\n"
     ]
    }
   ],
   "source": [
    "#you can explicitly tell pandas whether you are using numeric or non-numeric indexing like so\n",
    "print(pop.iloc[0:2])\n",
    "print(pop.loc['Java':'C++'])"
   ]
  },
  {
   "cell_type": "code",
   "execution_count": 20,
   "metadata": {},
   "outputs": [
    {
     "data": {
      "text/plain": [
       "Java      100.0\n",
       "Python     99.2\n",
       "C          90.0\n",
       "C++        88.4\n",
       "C#         85.3\n",
       "dtype: float64"
      ]
     },
     "execution_count": 20,
     "metadata": {},
     "output_type": "execute_result"
    }
   ],
   "source": [
    "# Of course, you can also use advanced indexing. For instance, a boolean mask.\n",
    "pop[pop > 80]"
   ]
  },
  {
   "cell_type": "code",
   "execution_count": 24,
   "metadata": {},
   "outputs": [
    {
     "data": {
      "text/plain": [
       "Java          100.0\n",
       "Python         99.2\n",
       "C              90.0\n",
       "C++            88.4\n",
       "C#             85.3\n",
       "Javascript     80.0\n",
       "Scala          75.0\n",
       "Ruby           73.0\n",
       "Perl           69.0\n",
       "Go             65.0\n",
       "Name: myseries, dtype: float64"
      ]
     },
     "execution_count": 24,
     "metadata": {},
     "output_type": "execute_result"
    }
   ],
   "source": [
    "# Another way to create this series is from a Python dictionary.\n",
    "# Indeed, sometimes it's useful to think of Pandas series as akin to dictionaries rather than NumPy arrays.\n",
    "# let's re-write the series in the style of a dict\n",
    "pop_another = pd.Series({'Java':100,'Python':99.2,'C':90,'C++':88.4,\n",
    "                         'C#':85.3, 'Javascript':80, 'Scala':75, 'Ruby':73,\n",
    "                        'Perl':69, 'Go':65}, name=\"myseries\")\n",
    "pop_another"
   ]
  },
  {
   "cell_type": "code",
   "execution_count": 23,
   "metadata": {},
   "outputs": [],
   "source": [
    "# Pandas DataFrames extend NumPy two-dimensional arrays by giving labels to the columns\n",
    "# and if you provide an explicit index, also to the rows.\n",
    "# I will show you several things about DataFrames:"
   ]
  },
  {
   "cell_type": "markdown",
   "metadata": {},
   "source": [
    "* how to create them from Panda Series, Python dicts, and NumPy arrays\n",
    "* how to work with Indexes and columns\n",
    "* how to perform database-style operation between DataFrames, such as joins."
   ]
  },
  {
   "cell_type": "code",
   "execution_count": null,
   "metadata": {},
   "outputs": [],
   "source": []
  }
 ],
 "metadata": {
  "kernelspec": {
   "display_name": "Python 3",
   "language": "python",
   "name": "python3"
  },
  "language_info": {
   "codemirror_mode": {
    "name": "ipython",
    "version": 3
   },
   "file_extension": ".py",
   "mimetype": "text/x-python",
   "name": "python",
   "nbconvert_exporter": "python",
   "pygments_lexer": "ipython3",
   "version": "3.6.5"
  }
 },
 "nbformat": 4,
 "nbformat_minor": 2
}

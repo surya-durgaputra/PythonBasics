{
 "cells": [
  {
   "cell_type": "code",
   "execution_count": 20,
   "metadata": {},
   "outputs": [],
   "source": [
    "import numpy as np\n",
    "import pandas as pd"
   ]
  },
  {
   "cell_type": "code",
   "execution_count": 21,
   "metadata": {},
   "outputs": [],
   "source": [
    "a = pd.Series([1,2,3,4,5], name='myname')"
   ]
  },
  {
   "cell_type": "code",
   "execution_count": 22,
   "metadata": {},
   "outputs": [],
   "source": [
    "#a series of languages by their popularity in 2014\n",
    "pop = pd.Series([100,99.2,90,88.4,85.3,80,75,73,69,65],\n",
    "          index=['Java','Python','C','C++','C#','Javascript','Scala','Ruby','Perl','Go'])"
   ]
  },
  {
   "cell_type": "code",
   "execution_count": 23,
   "metadata": {},
   "outputs": [
    {
     "data": {
      "text/plain": [
       "Java      100.0\n",
       "Python     99.2\n",
       "C          90.0\n",
       "C++        88.4\n",
       "C#         85.3\n",
       "dtype: float64"
      ]
     },
     "execution_count": 23,
     "metadata": {},
     "output_type": "execute_result"
    }
   ],
   "source": [
    "pop[:5]"
   ]
  },
  {
   "cell_type": "code",
   "execution_count": 24,
   "metadata": {},
   "outputs": [
    {
     "data": {
      "text/plain": [
       "Index(['Java', 'Python', 'C', 'C++', 'C#', 'Javascript', 'Scala', 'Ruby',\n",
       "       'Perl', 'Go'],\n",
       "      dtype='object')"
      ]
     },
     "execution_count": 24,
     "metadata": {},
     "output_type": "execute_result"
    }
   ],
   "source": [
    "pop.index"
   ]
  },
  {
   "cell_type": "code",
   "execution_count": 25,
   "metadata": {},
   "outputs": [
    {
     "data": {
      "text/plain": [
       "array([100. ,  99.2,  90. ,  88.4,  85.3,  80. ,  75. ,  73. ,  69. ,\n",
       "        65. ])"
      ]
     },
     "execution_count": 25,
     "metadata": {},
     "output_type": "execute_result"
    }
   ],
   "source": [
    "pop.values"
   ]
  },
  {
   "cell_type": "code",
   "execution_count": 26,
   "metadata": {},
   "outputs": [
    {
     "data": {
      "text/plain": [
       "Java      100.0\n",
       "Python     99.2\n",
       "C          90.0\n",
       "C++        88.4\n",
       "dtype: float64"
      ]
     },
     "execution_count": 26,
     "metadata": {},
     "output_type": "execute_result"
    }
   ],
   "source": [
    "pop['Java':'C++']"
   ]
  },
  {
   "cell_type": "code",
   "execution_count": 27,
   "metadata": {},
   "outputs": [
    {
     "name": "stdout",
     "output_type": "stream",
     "text": [
      "Java      100.0\n",
      "Python     99.2\n",
      "dtype: float64\n",
      "Java      100.0\n",
      "Python     99.2\n",
      "C          90.0\n",
      "C++        88.4\n",
      "dtype: float64\n"
     ]
    }
   ],
   "source": [
    "#you can explicitly tell pandas whether you are using numeric or non-numeric indexing like so\n",
    "print(pop.iloc[0:2])\n",
    "print(pop.loc['Java':'C++'])"
   ]
  },
  {
   "cell_type": "code",
   "execution_count": 28,
   "metadata": {},
   "outputs": [
    {
     "data": {
      "text/plain": [
       "Java      100.0\n",
       "Python     99.2\n",
       "C          90.0\n",
       "C++        88.4\n",
       "C#         85.3\n",
       "dtype: float64"
      ]
     },
     "execution_count": 28,
     "metadata": {},
     "output_type": "execute_result"
    }
   ],
   "source": [
    "# Of course, you can also use advanced indexing. For instance, a boolean mask.\n",
    "pop[pop > 80]"
   ]
  },
  {
   "cell_type": "code",
   "execution_count": 29,
   "metadata": {},
   "outputs": [
    {
     "data": {
      "text/plain": [
       "Java          100.0\n",
       "C              99.2\n",
       "Python         90.0\n",
       "C#             88.4\n",
       "C++            85.3\n",
       "Javascript     80.0\n",
       "Ruby           75.0\n",
       "Scala          73.0\n",
       "Perl           69.0\n",
       "Go             65.0\n",
       "Name: myseries, dtype: float64"
      ]
     },
     "execution_count": 29,
     "metadata": {},
     "output_type": "execute_result"
    }
   ],
   "source": [
    "# Another way to create this series is from a Python dictionary.\n",
    "# Indeed, sometimes it's useful to think of Pandas series as akin to dictionaries rather than NumPy arrays.\n",
    "# let's re-write the series in the style of a dict\n",
    "#a series of languages by their popularity in 2015\n",
    "pop_another = pd.Series({'Java':100,'C':99.2,'Python':90,'C#':88.4,\n",
    "                         'C++':85.3, 'Javascript':80, 'Ruby':75, 'Scala':73,\n",
    "                        'Perl':69, 'Go':65}, name=\"myseries\")\n",
    "pop_another"
   ]
  },
  {
   "cell_type": "code",
   "execution_count": 30,
   "metadata": {},
   "outputs": [],
   "source": [
    "# Pandas DataFrames extend NumPy two-dimensional arrays by giving labels to the columns\n",
    "# and if you provide an explicit index, also to the rows.\n",
    "# I will show you several things about DataFrames:"
   ]
  },
  {
   "cell_type": "markdown",
   "metadata": {},
   "source": [
    "* how to create them from Panda Series, Python dicts, and NumPy arrays\n",
    "* how to work with Indexes and columns\n",
    "* how to perform database-style operation between DataFrames, such as joins."
   ]
  },
  {
   "cell_type": "code",
   "execution_count": 31,
   "metadata": {},
   "outputs": [],
   "source": [
    "#a series of languages by their popularity in 2014\n",
    "pop2014 = pd.Series([100,99.2,90,88.4,85.3,80,75,73,69,65],\n",
    "          index=['Java','Python','C','C++','C#','Javascript','Scala','Ruby','Perl','Go'])\n",
    "#a series of languages by their popularity in 2015\n",
    "pop2015 = pd.Series({'Java':100,'C':99.2,'Python':90,'C#':88.4,\n",
    "                         'C++':85.3, 'Javascript':80, 'Ruby':75, 'Scala':73,\n",
    "                        'Perl':69, 'Go':65})"
   ]
  },
  {
   "cell_type": "code",
   "execution_count": 32,
   "metadata": {},
   "outputs": [],
   "source": [
    "# From two series, we can create a DataFrame. The indexes will be matched automatically. \n",
    "# That's the kind of magic that Pandas does for us.\n",
    "# We included the two series in a Python dict, so the keys will be used as column names.\n",
    "# So I call Pandas DataFrame and give it a Python dict with key 2014 for the first series\n",
    "# and 2015, obviously, for the second."
   ]
  },
  {
   "cell_type": "code",
   "execution_count": 33,
   "metadata": {},
   "outputs": [
    {
     "data": {
      "text/html": [
       "<div>\n",
       "<style scoped>\n",
       "    .dataframe tbody tr th:only-of-type {\n",
       "        vertical-align: middle;\n",
       "    }\n",
       "\n",
       "    .dataframe tbody tr th {\n",
       "        vertical-align: top;\n",
       "    }\n",
       "\n",
       "    .dataframe thead th {\n",
       "        text-align: right;\n",
       "    }\n",
       "</style>\n",
       "<table border=\"1\" class=\"dataframe\">\n",
       "  <thead>\n",
       "    <tr style=\"text-align: right;\">\n",
       "      <th></th>\n",
       "      <th>2014</th>\n",
       "      <th>2015</th>\n",
       "    </tr>\n",
       "  </thead>\n",
       "  <tbody>\n",
       "    <tr>\n",
       "      <th>C</th>\n",
       "      <td>90.0</td>\n",
       "      <td>99.2</td>\n",
       "    </tr>\n",
       "    <tr>\n",
       "      <th>C#</th>\n",
       "      <td>85.3</td>\n",
       "      <td>88.4</td>\n",
       "    </tr>\n",
       "    <tr>\n",
       "      <th>C++</th>\n",
       "      <td>88.4</td>\n",
       "      <td>85.3</td>\n",
       "    </tr>\n",
       "    <tr>\n",
       "      <th>Go</th>\n",
       "      <td>65.0</td>\n",
       "      <td>65.0</td>\n",
       "    </tr>\n",
       "    <tr>\n",
       "      <th>Java</th>\n",
       "      <td>100.0</td>\n",
       "      <td>100.0</td>\n",
       "    </tr>\n",
       "    <tr>\n",
       "      <th>Javascript</th>\n",
       "      <td>80.0</td>\n",
       "      <td>80.0</td>\n",
       "    </tr>\n",
       "    <tr>\n",
       "      <th>Perl</th>\n",
       "      <td>69.0</td>\n",
       "      <td>69.0</td>\n",
       "    </tr>\n",
       "    <tr>\n",
       "      <th>Python</th>\n",
       "      <td>99.2</td>\n",
       "      <td>90.0</td>\n",
       "    </tr>\n",
       "    <tr>\n",
       "      <th>Ruby</th>\n",
       "      <td>73.0</td>\n",
       "      <td>75.0</td>\n",
       "    </tr>\n",
       "    <tr>\n",
       "      <th>Scala</th>\n",
       "      <td>75.0</td>\n",
       "      <td>73.0</td>\n",
       "    </tr>\n",
       "  </tbody>\n",
       "</table>\n",
       "</div>"
      ],
      "text/plain": [
       "             2014   2015\n",
       "C            90.0   99.2\n",
       "C#           85.3   88.4\n",
       "C++          88.4   85.3\n",
       "Go           65.0   65.0\n",
       "Java        100.0  100.0\n",
       "Javascript   80.0   80.0\n",
       "Perl         69.0   69.0\n",
       "Python       99.2   90.0\n",
       "Ruby         73.0   75.0\n",
       "Scala        75.0   73.0"
      ]
     },
     "execution_count": 33,
     "metadata": {},
     "output_type": "execute_result"
    }
   ],
   "source": [
    "twoyears = pd.DataFrame({'2014':pop2014, '2015':pop2015})\n",
    "# Pandas works with the Python notebook to provides a nice, tabular representation for the DataFrame.\n",
    "twoyears"
   ]
  },
  {
   "cell_type": "code",
   "execution_count": 39,
   "metadata": {},
   "outputs": [
    {
     "data": {
      "text/html": [
       "<div>\n",
       "<style scoped>\n",
       "    .dataframe tbody tr th:only-of-type {\n",
       "        vertical-align: middle;\n",
       "    }\n",
       "\n",
       "    .dataframe tbody tr th {\n",
       "        vertical-align: top;\n",
       "    }\n",
       "\n",
       "    .dataframe thead th {\n",
       "        text-align: right;\n",
       "    }\n",
       "</style>\n",
       "<table border=\"1\" class=\"dataframe\">\n",
       "  <thead>\n",
       "    <tr style=\"text-align: right;\">\n",
       "      <th></th>\n",
       "      <th>2014</th>\n",
       "      <th>2015</th>\n",
       "      <th>avg</th>\n",
       "    </tr>\n",
       "  </thead>\n",
       "  <tbody>\n",
       "    <tr>\n",
       "      <th>Java</th>\n",
       "      <td>100.0</td>\n",
       "      <td>100.0</td>\n",
       "      <td>100.00</td>\n",
       "    </tr>\n",
       "    <tr>\n",
       "      <th>C</th>\n",
       "      <td>90.0</td>\n",
       "      <td>99.2</td>\n",
       "      <td>94.60</td>\n",
       "    </tr>\n",
       "    <tr>\n",
       "      <th>Python</th>\n",
       "      <td>99.2</td>\n",
       "      <td>90.0</td>\n",
       "      <td>94.60</td>\n",
       "    </tr>\n",
       "    <tr>\n",
       "      <th>C#</th>\n",
       "      <td>85.3</td>\n",
       "      <td>88.4</td>\n",
       "      <td>86.85</td>\n",
       "    </tr>\n",
       "    <tr>\n",
       "      <th>C++</th>\n",
       "      <td>88.4</td>\n",
       "      <td>85.3</td>\n",
       "      <td>86.85</td>\n",
       "    </tr>\n",
       "    <tr>\n",
       "      <th>Javascript</th>\n",
       "      <td>80.0</td>\n",
       "      <td>80.0</td>\n",
       "      <td>80.00</td>\n",
       "    </tr>\n",
       "    <tr>\n",
       "      <th>Ruby</th>\n",
       "      <td>73.0</td>\n",
       "      <td>75.0</td>\n",
       "      <td>74.00</td>\n",
       "    </tr>\n",
       "    <tr>\n",
       "      <th>Scala</th>\n",
       "      <td>75.0</td>\n",
       "      <td>73.0</td>\n",
       "      <td>74.00</td>\n",
       "    </tr>\n",
       "    <tr>\n",
       "      <th>Perl</th>\n",
       "      <td>69.0</td>\n",
       "      <td>69.0</td>\n",
       "      <td>69.00</td>\n",
       "    </tr>\n",
       "    <tr>\n",
       "      <th>Go</th>\n",
       "      <td>65.0</td>\n",
       "      <td>65.0</td>\n",
       "      <td>65.00</td>\n",
       "    </tr>\n",
       "  </tbody>\n",
       "</table>\n",
       "</div>"
      ],
      "text/plain": [
       "             2014   2015     avg\n",
       "Java        100.0  100.0  100.00\n",
       "C            90.0   99.2   94.60\n",
       "Python       99.2   90.0   94.60\n",
       "C#           85.3   88.4   86.85\n",
       "C++          88.4   85.3   86.85\n",
       "Javascript   80.0   80.0   80.00\n",
       "Ruby         73.0   75.0   74.00\n",
       "Scala        75.0   73.0   74.00\n",
       "Perl         69.0   69.0   69.00\n",
       "Go           65.0   65.0   65.00"
      ]
     },
     "execution_count": 39,
     "metadata": {},
     "output_type": "execute_result"
    }
   ],
   "source": [
    "# We can do many things with the DataFrame.\n",
    "# For instance, we can sort it using the values in one of the columns.\n",
    "# We'll call the Pandas method, sort, in this case, on the column 2015. We want the largest values at the top,\n",
    "# so we specify that the sort order should be descending.\n",
    "twoyears = twoyears.sort_values('2015',ascending=False)\n",
    "# We can do numerical operations on entire columns and store the result in a new column.\n",
    "# For instance, we can compute the average computer language popularity across 2014 and 2015.\n",
    "# And we can assign it to a new column, avg.\n",
    "twoyears['avg'] = 0.5*(twoyears['2015'] + twoyears['2014'])\n",
    "twoyears"
   ]
  },
  {
   "cell_type": "code",
   "execution_count": 56,
   "metadata": {},
   "outputs": [
    {
     "name": "stdout",
     "output_type": "stream",
     "text": [
      "[[100.   100.   100.  ]\n",
      " [ 90.    99.2   94.6 ]\n",
      " [ 99.2   90.    94.6 ]\n",
      " [ 85.3   88.4   86.85]\n",
      " [ 88.4   85.3   86.85]\n",
      " [ 80.    80.    80.  ]\n",
      " [ 73.    75.    74.  ]\n",
      " [ 75.    73.    74.  ]\n",
      " [ 69.    69.    69.  ]\n",
      " [ 65.    65.    65.  ]]\n",
      "Index(['Java', 'C', 'Python', 'C#', 'C++', 'Javascript', 'Ruby', 'Scala',\n",
      "       'Perl', 'Go'],\n",
      "      dtype='object')\n",
      "Index(['2014', '2015', 'avg'], dtype='object')\n",
      "Java          100.0\n",
      "C              99.2\n",
      "Python         90.0\n",
      "C#             88.4\n",
      "C++            85.3\n",
      "Javascript     80.0\n",
      "Ruby           75.0\n",
      "Scala          73.0\n",
      "Perl           69.0\n",
      "Go             65.0\n",
      "Name: 2015, dtype: float64\n",
      "         2014   2015     avg\n",
      "Java    100.0  100.0  100.00\n",
      "C        90.0   99.2   94.60\n",
      "Python   99.2   90.0   94.60\n",
      "C#       85.3   88.4   86.85\n",
      "C++      88.4   85.3   86.85\n",
      "       2014   2015    avg\n",
      "Java  100.0  100.0  100.0\n",
      "C      90.0   99.2   94.6\n"
     ]
    },
    {
     "data": {
      "text/plain": [
       "Java    100.0\n",
       "C        99.2\n",
       "Name: 2015, dtype: float64"
      ]
     },
     "execution_count": 56,
     "metadata": {},
     "output_type": "execute_result"
    }
   ],
   "source": [
    "# Since Pandas is built on top of NumPy, there's a NumPy array inside every DataFrame.\n",
    "# We can extract it by asking for the attribute, values.\n",
    "print(twoyears.values)\n",
    "# We can similarly extract the index and the names of the columns.\n",
    "print(twoyears.index)\n",
    "print(twoyears.keys())# names of columns\n",
    "# Indexing the DataFrame with brackets naturally returns a column.\n",
    "print(twoyears['2015'])\n",
    "# If we want to select a subset of rows from the DataFrame, it's best to use the iloc or loc indexing objects.\n",
    "print(twoyears.loc['Java':'C++'])\n",
    "print(twoyears.iloc[0:2])\n",
    "twoyears.iloc[0:2]['2015']"
   ]
  },
  {
   "cell_type": "code",
   "execution_count": 62,
   "metadata": {},
   "outputs": [
    {
     "data": {
      "text/html": [
       "<div>\n",
       "<style scoped>\n",
       "    .dataframe tbody tr th:only-of-type {\n",
       "        vertical-align: middle;\n",
       "    }\n",
       "\n",
       "    .dataframe tbody tr th {\n",
       "        vertical-align: top;\n",
       "    }\n",
       "\n",
       "    .dataframe thead th {\n",
       "        text-align: right;\n",
       "    }\n",
       "</style>\n",
       "<table border=\"1\" class=\"dataframe\">\n",
       "  <thead>\n",
       "    <tr style=\"text-align: right;\">\n",
       "      <th></th>\n",
       "      <th>birthyear</th>\n",
       "      <th>inauguration</th>\n",
       "      <th>name</th>\n",
       "    </tr>\n",
       "  </thead>\n",
       "  <tbody>\n",
       "    <tr>\n",
       "      <th>0</th>\n",
       "      <td>1961</td>\n",
       "      <td>2009</td>\n",
       "      <td>Barack Obama</td>\n",
       "    </tr>\n",
       "    <tr>\n",
       "      <th>1</th>\n",
       "      <td>1946</td>\n",
       "      <td>2001</td>\n",
       "      <td>George W. Bush</td>\n",
       "    </tr>\n",
       "    <tr>\n",
       "      <th>2</th>\n",
       "      <td>1946</td>\n",
       "      <td>1993</td>\n",
       "      <td>Bill Clinton</td>\n",
       "    </tr>\n",
       "    <tr>\n",
       "      <th>3</th>\n",
       "      <td>1924</td>\n",
       "      <td>1989</td>\n",
       "      <td>George H. W. Bush</td>\n",
       "    </tr>\n",
       "  </tbody>\n",
       "</table>\n",
       "</div>"
      ],
      "text/plain": [
       "   birthyear  inauguration               name\n",
       "0       1961          2009       Barack Obama\n",
       "1       1946          2001     George W. Bush\n",
       "2       1946          1993       Bill Clinton\n",
       "3       1924          1989  George H. W. Bush"
      ]
     },
     "execution_count": 62,
     "metadata": {},
     "output_type": "execute_result"
    }
   ],
   "source": [
    "# There are more ways to make a DataFrame. For instance, we could use a Python dict to specify every row as a dict item\n",
    "# and then give Pandas DataFrame a list of such dictionaries.\n",
    "presidents = pd.DataFrame([\n",
    "    {'name':'Barack Obama','inauguration':2009,'birthyear':1961},\n",
    "    {'name':'George W. Bush','inauguration':2001,'birthyear':1946},\n",
    "    {'name':'Bill Clinton','inauguration':1993,'birthyear':1946},\n",
    "    {'name':'George H. W. Bush','inauguration':1989,'birthyear':1924}\n",
    "])\n",
    "presidents"
   ]
  },
  {
   "cell_type": "code",
   "execution_count": 71,
   "metadata": {},
   "outputs": [
    {
     "name": "stdout",
     "output_type": "stream",
     "text": [
      "                   birthyear  inauguration\n",
      "name                                      \n",
      "Barack Obama            1961          2009\n",
      "George W. Bush          1946          2001\n",
      "Bill Clinton            1946          1993\n",
      "George H. W. Bush       1924          1989\n",
      "1993\n",
      "birthyear       1946\n",
      "inauguration    1993\n",
      "Name: Bill Clinton, dtype: int64\n",
      "1993\n",
      "1993\n"
     ]
    }
   ],
   "source": [
    "# We can choose one of the columns to be used as the index. We do this with the Pandas set_index function.\n",
    "presidents_indexes = presidents.set_index('name')\n",
    "print(presidents_indexes)\n",
    "# If we do this, we'll be able to ask explicitly, for instance, for Bill Clinton's inauguration year.\n",
    "print(presidents_indexes.loc['Bill Clinton']['inauguration'])\n",
    "#Remember that we need the .loc object to index rows. This gets us the entire record for Clinton.\n",
    "print(presidents_indexes.loc['Bill Clinton'])\n",
    "# Then we can choose the right column.\n",
    "print(presidents_indexes.loc['Bill Clinton']['inauguration'])\n",
    "# Or we could select the column first and then index the President we want.\n",
    "print(presidents_indexes['inauguration'].loc['Bill Clinton'])"
   ]
  },
  {
   "cell_type": "code",
   "execution_count": 72,
   "metadata": {},
   "outputs": [],
   "source": [
    "# Pandas implements several operations common in relational databases, such as joins.\n",
    "# I will only show you an example of the simplest type of join, a one-to-one operation.\n",
    "# In Pandas, joins are performed with the merge function.\n",
    "# First, however, I need another table of data to combine with my table of Presidents.\n",
    "# For instance, a table that describes their fathers. So presidents_fathers.\n",
    "presidents_fathers = pd.DataFrame([\n",
    "    {'son':'Barack Obama', 'father':'Barack Obama, Sr.'},\n",
    "    {'son':'George W. Bush', 'father':'George H. W. Bush'},\n",
    "    {'son':'George H. W. Bush', 'father':'Prescott Bush'}\n",
    "])"
   ]
  },
  {
   "cell_type": "code",
   "execution_count": null,
   "metadata": {},
   "outputs": [],
   "source": [
    "# In a join, which we do with Pandas merge, we combine two tables by matching values between two columns.\n",
    "# In this case, we combine presidents and their fathers using the column, name, for the first DataFrame\n",
    "# and the column, son, for the second.\n",
    "# We specify these columns with the left_on and right_on arguments to merge.\n",
    "# The resulting table has a redundant column that we can drop."
   ]
  }
 ],
 "metadata": {
  "kernelspec": {
   "display_name": "Python 3",
   "language": "python",
   "name": "python3"
  },
  "language_info": {
   "codemirror_mode": {
    "name": "ipython",
    "version": 3
   },
   "file_extension": ".py",
   "mimetype": "text/x-python",
   "name": "python",
   "nbconvert_exporter": "python",
   "pygments_lexer": "ipython3",
   "version": "3.6.5"
  }
 },
 "nbformat": 4,
 "nbformat_minor": 2
}

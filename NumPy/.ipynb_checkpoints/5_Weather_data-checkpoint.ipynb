{
 "cells": [
  {
   "cell_type": "code",
   "execution_count": 1,
   "metadata": {},
   "outputs": [],
   "source": [
    "import numpy as np\n",
    "import matplotlib.pyplot as pp\n",
    "import seaborn\n",
    "%matplotlib inline"
   ]
  },
  {
   "cell_type": "code",
   "execution_count": 2,
   "metadata": {},
   "outputs": [],
   "source": [
    "# weather data taken from http://www.ncdc.noaa.gov"
   ]
  },
  {
   "cell_type": "code",
   "execution_count": 3,
   "metadata": {},
   "outputs": [],
   "source": [
    "#we are accessing Global Historical Climatology Network data from here: \n",
    "#https://www.ncdc.noaa.gov/data-access/land-based-station-data/land-based-datasets/global-historical-climatology-network-ghcn"
   ]
  },
  {
   "cell_type": "code",
   "execution_count": 4,
   "metadata": {},
   "outputs": [
    {
     "data": {
      "text/plain": [
       "('stations.txt', <email.message.Message at 0x986ec88>)"
      ]
     },
     "execution_count": 4,
     "metadata": {},
     "output_type": "execute_result"
    }
   ],
   "source": [
    "import urllib.request\n",
    "urllib.request.urlretrieve('ftp://ftp.ncdc.noaa.gov/pub/data/ghcn/daily/ghcnd-stations.txt', 'stations.txt')"
   ]
  },
  {
   "cell_type": "code",
   "execution_count": 11,
   "metadata": {},
   "outputs": [
    {
     "data": {
      "text/plain": [
       "['ACW00011604  17.1167  -61.7833   10.1    ST JOHNS COOLIDGE FLD',\n",
       " 'ACW00011647  17.1333  -61.7833   19.2    ST JOHNS',\n",
       " 'AE000041196  25.3330   55.5170   34.0    SHARJAH INTER. AIRP            GSN     41196',\n",
       " 'AEM00041194  25.2550   55.3640   10.4    DUBAI INTL                             41194',\n",
       " 'AEM00041217  24.4330   54.6510   26.8    ABU DHABI INTL                         41217',\n",
       " 'AEM00041218  24.2620   55.6090  264.9    AL AIN INTL                            41218',\n",
       " 'AF000040930  35.3170   69.0170 3366.0    NORTH-SALANG                   GSN     40930',\n",
       " 'AFM00040938  34.2100   62.2280  977.2    HERAT                                  40938',\n",
       " 'AFM00040948  34.5660   69.2120 1791.3    KABUL INTL                             40948',\n",
       " 'AFM00040990  31.5000   65.8500 1010.0    KANDAHAR AIRPORT                       40990']"
      ]
     },
     "execution_count": 11,
     "metadata": {},
     "output_type": "execute_result"
    }
   ],
   "source": [
    "#read the downloaded file.. we will read the first few lines via slicing\n",
    "filepath = 'stations.txt'\n",
    "lines = []\n",
    "with open(filepath) as fp:\n",
    "    lines = list(fp.readlines()[:10])\n",
    "\n",
    "lines = [line.strip() for line in lines]\n",
    "lines"
   ]
  },
  {
   "cell_type": "code",
   "execution_count": 12,
   "metadata": {},
   "outputs": [],
   "source": [
    "# the first ACW00011604 is the id, 17.1167  -61.7833 is the lat,long, 10.1 is the height above sea-level , \n",
    "#'ST JOHNS COOLIDGE FLD' is the name of the meteorological station\n",
    "#some are marked with GSN. GCOS Surface Network (GSN) is a global network of over 1000 stations \n",
    "# selected from the network of many thousands of existing meteorological stations"
   ]
  },
  {
   "cell_type": "code",
   "execution_count": 20,
   "metadata": {},
   "outputs": [
    {
     "data": {
      "text/plain": [
       "994"
      ]
     },
     "execution_count": 20,
     "metadata": {},
     "output_type": "execute_result"
    }
   ],
   "source": [
    "# we go through the whole file line by line, get only those marked GSN.. we will collect only the staions names in a dict, \n",
    "# indexed by the station code\n",
    "filepath = 'stations.txt'\n",
    "stations = {}\n",
    "with open(filepath) as fp:\n",
    "    for index, line in enumerate(fp):\n",
    "        if 'GSN' in line:\n",
    "            fields = line.split()\n",
    "            stations[fields[0]] = ' '.join(fields[4:])\n",
    "            \n",
    "\n",
    "len(stations)"
   ]
  },
  {
   "cell_type": "code",
   "execution_count": 21,
   "metadata": {},
   "outputs": [
    {
     "data": {
      "text/plain": [
       "'NORTH-SALANG GSN 40930'"
      ]
     },
     "execution_count": 21,
     "metadata": {},
     "output_type": "execute_result"
    }
   ],
   "source": [
    "#since there are 994 stations, let's look for interesting patterns within station names and \n",
    "# display only those stations matching that pattern\n",
    "# we will call this function findstation\n",
    "# inside it, lets build a dict using a comprehension, using the station code and names where the pattern we are interested in \n",
    "# is found within the name\n",
    "def findstation(s):\n",
    "    found = [code: name for code,name in stations.items if s in name]"
   ]
  },
  {
   "cell_type": "code",
   "execution_count": null,
   "metadata": {},
   "outputs": [],
   "source": []
  }
 ],
 "metadata": {
  "kernelspec": {
   "display_name": "Python 3",
   "language": "python",
   "name": "python3"
  },
  "language_info": {
   "codemirror_mode": {
    "name": "ipython",
    "version": 3
   },
   "file_extension": ".py",
   "mimetype": "text/x-python",
   "name": "python",
   "nbconvert_exporter": "python",
   "pygments_lexer": "ipython3",
   "version": "3.6.5"
  }
 },
 "nbformat": 4,
 "nbformat_minor": 2
}

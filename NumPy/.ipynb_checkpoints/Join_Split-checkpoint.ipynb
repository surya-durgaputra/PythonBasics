{
 "cells": [
  {
   "cell_type": "markdown",
   "metadata": {},
   "source": [
    "# Joining and Splitting arrays\n",
    "- concatenate\n",
    "- stack\n",
    "- split"
   ]
  },
  {
   "cell_type": "code",
   "execution_count": 1,
   "metadata": {},
   "outputs": [],
   "source": [
    "import numpy as np"
   ]
  },
  {
   "cell_type": "markdown",
   "metadata": {},
   "source": [
    "### concatenate\n",
    "documentation: http://docs.scipy.org/doc/numpy/reference/generated/numpy.concatenate.html"
   ]
  },
  {
   "cell_type": "code",
   "execution_count": 2,
   "metadata": {},
   "outputs": [
    {
     "data": {
      "text/plain": [
       "array([[1, 2],\n",
       "       [3, 4]])"
      ]
     },
     "execution_count": 2,
     "metadata": {},
     "output_type": "execute_result"
    }
   ],
   "source": [
    "a = np.array([[1, 2], [3, 4]])\n",
    "b = np.array([[5, 6]])\n",
    "a"
   ]
  },
  {
   "cell_type": "code",
   "execution_count": 3,
   "metadata": {},
   "outputs": [
    {
     "data": {
      "text/plain": [
       "array([[1, 2],\n",
       "       [3, 4],\n",
       "       [5, 6]])"
      ]
     },
     "execution_count": 3,
     "metadata": {},
     "output_type": "execute_result"
    }
   ],
   "source": [
    "together = np.concatenate((a, b), axis=0)\n",
    "together"
   ]
  },
  {
   "cell_type": "code",
   "execution_count": 4,
   "metadata": {},
   "outputs": [
    {
     "data": {
      "text/plain": [
       "(3, 2)"
      ]
     },
     "execution_count": 4,
     "metadata": {},
     "output_type": "execute_result"
    }
   ],
   "source": [
    "together.shape"
   ]
  },
  {
   "cell_type": "code",
   "execution_count": 5,
   "metadata": {},
   "outputs": [
    {
     "data": {
      "text/plain": [
       "array([[  1,   2],\n",
       "       [  3, 555],\n",
       "       [  5,   6]])"
      ]
     },
     "execution_count": 5,
     "metadata": {},
     "output_type": "execute_result"
    }
   ],
   "source": [
    "# we will now evaluate if concatenate  creates copy or view\n",
    "together[1,1] = 555\n",
    "together"
   ]
  },
  {
   "cell_type": "code",
   "execution_count": 6,
   "metadata": {},
   "outputs": [
    {
     "data": {
      "text/plain": [
       "array([[1, 2],\n",
       "       [3, 4]])"
      ]
     },
     "execution_count": 6,
     "metadata": {},
     "output_type": "execute_result"
    }
   ],
   "source": [
    "a\n",
    "#since a remains unchanged, we know that concatenate creates copy "
   ]
  },
  {
   "cell_type": "code",
   "execution_count": 7,
   "metadata": {},
   "outputs": [
    {
     "data": {
      "text/plain": [
       "array([[ 8, 11],\n",
       "       [14, 17]])"
      ]
     },
     "execution_count": 7,
     "metadata": {},
     "output_type": "execute_result"
    }
   ],
   "source": [
    "c = np.array([[1, 2], [3, 4]]) *3 + 5\n",
    "c"
   ]
  },
  {
   "cell_type": "code",
   "execution_count": 8,
   "metadata": {},
   "outputs": [
    {
     "data": {
      "text/plain": [
       "array([[ 1,  2,  8, 11],\n",
       "       [ 3,  4, 14, 17]])"
      ]
     },
     "execution_count": 8,
     "metadata": {},
     "output_type": "execute_result"
    }
   ],
   "source": [
    "np.concatenate((a, c), axis=1)"
   ]
  },
  {
   "cell_type": "markdown",
   "metadata": {},
   "source": [
    "### stack\n",
    "## Difference between stack and concatenate is that stack joins the sequence of arrays along a NEW axis (the result has one more axis) while concatenate joins along an EXISTING axis (result has same number of axes).\n"
   ]
  },
  {
   "cell_type": "code",
   "execution_count": 9,
   "metadata": {},
   "outputs": [
    {
     "data": {
      "text/plain": [
       "array([[[-1.13140221,  1.03848199, -1.98584581, -1.97593229],\n",
       "        [ 2.15362077, -0.29809027, -0.03500702,  0.68361543],\n",
       "        [-1.83352677,  0.61243533,  0.2688316 , -0.62995836]],\n",
       "\n",
       "       [[ 0.00628702, -0.18423077, -1.04349705,  0.84990373],\n",
       "        [-1.59228147, -2.03043196,  0.06482815,  1.77474184],\n",
       "        [-0.63042778,  0.10509448,  0.18146381,  1.866664  ]],\n",
       "\n",
       "       [[ 0.82248195,  0.83951576,  0.65723661,  0.1725644 ],\n",
       "        [ 0.36960297, -0.80892513,  0.88921841,  1.45578956],\n",
       "        [-0.27371709, -0.91760726,  0.15314121,  1.70789632]],\n",
       "\n",
       "       [[ 0.14975801,  0.45796235, -1.62838782,  1.10433102],\n",
       "        [-0.13734078, -0.47600138, -0.9266404 ,  0.30273172],\n",
       "        [-1.45494555, -0.49969549,  0.52485078,  1.99987088]],\n",
       "\n",
       "       [[ 0.2374883 , -0.87549309, -0.52329361, -1.79837445],\n",
       "        [ 0.8444017 , -1.37257443, -0.63250145, -0.38884501],\n",
       "        [-0.52670512, -1.9458443 ,  2.25474277, -0.36156879]]])"
      ]
     },
     "execution_count": 9,
     "metadata": {},
     "output_type": "execute_result"
    }
   ],
   "source": [
    "arrays = np.zeros((5,3,4))\n",
    "for n in range(5):\n",
    "    arrays[n] = np.random.randn(3, 4) # all numbers in the array have mean 3 and std. dev. 4\n",
    "    \n",
    "arrays"
   ]
  },
  {
   "cell_type": "code",
   "execution_count": 10,
   "metadata": {},
   "outputs": [],
   "source": [
    "stack0 = np.stack(arrays, axis=0)\n",
    "stack1 = np.stack(arrays, axis=1)\n",
    "stack2 = np.stack(arrays, axis=2)"
   ]
  },
  {
   "cell_type": "code",
   "execution_count": 11,
   "metadata": {},
   "outputs": [
    {
     "data": {
      "text/plain": [
       "array([[5, 3, 4],\n",
       "       [3, 5, 4],\n",
       "       [3, 4, 5]])"
      ]
     },
     "execution_count": 11,
     "metadata": {},
     "output_type": "execute_result"
    }
   ],
   "source": [
    "my_stacks = np.array([stack0.shape, stack1.shape, stack2.shape])\n",
    "my_stacks"
   ]
  },
  {
   "cell_type": "code",
   "execution_count": 12,
   "metadata": {},
   "outputs": [
    {
     "data": {
      "text/plain": [
       "array([[[-1.13140221,  1.03848199, -1.98584581, -1.97593229],\n",
       "        [ 2.15362077, -0.29809027, -0.03500702,  0.68361543],\n",
       "        [-1.83352677,  0.61243533,  0.2688316 , -0.62995836]],\n",
       "\n",
       "       [[ 0.00628702, -0.18423077, -1.04349705,  0.84990373],\n",
       "        [-1.59228147, -2.03043196,  0.06482815,  1.77474184],\n",
       "        [-0.63042778,  0.10509448,  0.18146381,  1.866664  ]],\n",
       "\n",
       "       [[ 0.82248195,  0.83951576,  0.65723661,  0.1725644 ],\n",
       "        [ 0.36960297, -0.80892513,  0.88921841,  1.45578956],\n",
       "        [-0.27371709, -0.91760726,  0.15314121,  1.70789632]],\n",
       "\n",
       "       [[ 0.14975801,  0.45796235, -1.62838782,  1.10433102],\n",
       "        [-0.13734078, -0.47600138, -0.9266404 ,  0.30273172],\n",
       "        [-1.45494555, -0.49969549,  0.52485078,  1.99987088]],\n",
       "\n",
       "       [[ 0.2374883 , -0.87549309, -0.52329361, -1.79837445],\n",
       "        [ 0.8444017 , -1.37257443, -0.63250145, -0.38884501],\n",
       "        [-0.52670512, -1.9458443 ,  2.25474277, -0.36156879]]])"
      ]
     },
     "execution_count": 12,
     "metadata": {},
     "output_type": "execute_result"
    }
   ],
   "source": [
    "stack0"
   ]
  },
  {
   "cell_type": "code",
   "execution_count": 13,
   "metadata": {},
   "outputs": [
    {
     "data": {
      "text/plain": [
       "array([[[-1.13140221,  1.03848199, -1.98584581, -1.97593229],\n",
       "        [ 0.00628702, -0.18423077, -1.04349705,  0.84990373],\n",
       "        [ 0.82248195,  0.83951576,  0.65723661,  0.1725644 ],\n",
       "        [ 0.14975801,  0.45796235, -1.62838782,  1.10433102],\n",
       "        [ 0.2374883 , -0.87549309, -0.52329361, -1.79837445]],\n",
       "\n",
       "       [[ 2.15362077, -0.29809027, -0.03500702,  0.68361543],\n",
       "        [-1.59228147, -2.03043196,  0.06482815,  1.77474184],\n",
       "        [ 0.36960297, -0.80892513,  0.88921841,  1.45578956],\n",
       "        [-0.13734078, -0.47600138, -0.9266404 ,  0.30273172],\n",
       "        [ 0.8444017 , -1.37257443, -0.63250145, -0.38884501]],\n",
       "\n",
       "       [[-1.83352677,  0.61243533,  0.2688316 , -0.62995836],\n",
       "        [-0.63042778,  0.10509448,  0.18146381,  1.866664  ],\n",
       "        [-0.27371709, -0.91760726,  0.15314121,  1.70789632],\n",
       "        [-1.45494555, -0.49969549,  0.52485078,  1.99987088],\n",
       "        [-0.52670512, -1.9458443 ,  2.25474277, -0.36156879]]])"
      ]
     },
     "execution_count": 13,
     "metadata": {},
     "output_type": "execute_result"
    }
   ],
   "source": [
    "stack1"
   ]
  },
  {
   "cell_type": "code",
   "execution_count": 14,
   "metadata": {},
   "outputs": [
    {
     "data": {
      "text/plain": [
       "array([[[-1.13140221,  0.00628702,  0.82248195,  0.14975801,\n",
       "          0.2374883 ],\n",
       "        [ 1.03848199, -0.18423077,  0.83951576,  0.45796235,\n",
       "         -0.87549309],\n",
       "        [-1.98584581, -1.04349705,  0.65723661, -1.62838782,\n",
       "         -0.52329361],\n",
       "        [-1.97593229,  0.84990373,  0.1725644 ,  1.10433102,\n",
       "         -1.79837445]],\n",
       "\n",
       "       [[ 2.15362077, -1.59228147,  0.36960297, -0.13734078,\n",
       "          0.8444017 ],\n",
       "        [-0.29809027, -2.03043196, -0.80892513, -0.47600138,\n",
       "         -1.37257443],\n",
       "        [-0.03500702,  0.06482815,  0.88921841, -0.9266404 ,\n",
       "         -0.63250145],\n",
       "        [ 0.68361543,  1.77474184,  1.45578956,  0.30273172,\n",
       "         -0.38884501]],\n",
       "\n",
       "       [[-1.83352677, -0.63042778, -0.27371709, -1.45494555,\n",
       "         -0.52670512],\n",
       "        [ 0.61243533,  0.10509448, -0.91760726, -0.49969549,\n",
       "         -1.9458443 ],\n",
       "        [ 0.2688316 ,  0.18146381,  0.15314121,  0.52485078,\n",
       "          2.25474277],\n",
       "        [-0.62995836,  1.866664  ,  1.70789632,  1.99987088,\n",
       "         -0.36156879]]])"
      ]
     },
     "execution_count": 14,
     "metadata": {},
     "output_type": "execute_result"
    }
   ],
   "source": [
    "stack2"
   ]
  },
  {
   "cell_type": "markdown",
   "metadata": {},
   "source": [
    "### split\n",
    "for information, please see: http://docs.scipy.org/doc/numpy/reference/generated/numpy.split.html"
   ]
  },
  {
   "cell_type": "code",
   "execution_count": 15,
   "metadata": {},
   "outputs": [
    {
     "data": {
      "text/plain": [
       "[array([0, 1, 2, 3, 4])]"
      ]
     },
     "execution_count": 15,
     "metadata": {},
     "output_type": "execute_result"
    }
   ],
   "source": [
    "temp = np.arange(5)\n",
    "np.split(temp,1)"
   ]
  },
  {
   "cell_type": "code",
   "execution_count": 16,
   "metadata": {},
   "outputs": [
    {
     "data": {
      "text/plain": [
       "(5, 3, 4)"
      ]
     },
     "execution_count": 16,
     "metadata": {},
     "output_type": "execute_result"
    }
   ],
   "source": [
    "before_split = stack0\n",
    "before_split.shape"
   ]
  },
  {
   "cell_type": "code",
   "execution_count": 17,
   "metadata": {},
   "outputs": [
    {
     "data": {
      "text/plain": [
       "[array([[[-1.13140221,  1.03848199, -1.98584581, -1.97593229],\n",
       "         [ 2.15362077, -0.29809027, -0.03500702,  0.68361543],\n",
       "         [-1.83352677,  0.61243533,  0.2688316 , -0.62995836]]]),\n",
       " array([[[ 0.00628702, -0.18423077, -1.04349705,  0.84990373],\n",
       "         [-1.59228147, -2.03043196,  0.06482815,  1.77474184],\n",
       "         [-0.63042778,  0.10509448,  0.18146381,  1.866664  ]]]),\n",
       " array([[[ 0.82248195,  0.83951576,  0.65723661,  0.1725644 ],\n",
       "         [ 0.36960297, -0.80892513,  0.88921841,  1.45578956],\n",
       "         [-0.27371709, -0.91760726,  0.15314121,  1.70789632]]]),\n",
       " array([[[ 0.14975801,  0.45796235, -1.62838782,  1.10433102],\n",
       "         [-0.13734078, -0.47600138, -0.9266404 ,  0.30273172],\n",
       "         [-1.45494555, -0.49969549,  0.52485078,  1.99987088]]]),\n",
       " array([[[ 0.2374883 , -0.87549309, -0.52329361, -1.79837445],\n",
       "         [ 0.8444017 , -1.37257443, -0.63250145, -0.38884501],\n",
       "         [-0.52670512, -1.9458443 ,  2.25474277, -0.36156879]]])]"
      ]
     },
     "execution_count": 17,
     "metadata": {},
     "output_type": "execute_result"
    }
   ],
   "source": [
    "s0=np.split (before_split, 5, axis=0)\n",
    "s0"
   ]
  },
  {
   "cell_type": "code",
   "execution_count": 18,
   "metadata": {},
   "outputs": [
    {
     "data": {
      "text/plain": [
       "list"
      ]
     },
     "execution_count": 18,
     "metadata": {},
     "output_type": "execute_result"
    }
   ],
   "source": [
    "type(s0)"
   ]
  },
  {
   "cell_type": "code",
   "execution_count": 19,
   "metadata": {},
   "outputs": [
    {
     "data": {
      "text/plain": [
       "array([[[ 0.00628702, -0.18423077, -1.04349705,  0.84990373],\n",
       "        [-1.59228147, -2.03043196,  0.06482815,  1.77474184],\n",
       "        [-0.63042778,  0.10509448,  0.18146381,  1.866664  ]]])"
      ]
     },
     "execution_count": 19,
     "metadata": {},
     "output_type": "execute_result"
    }
   ],
   "source": [
    "s0[1]"
   ]
  },
  {
   "cell_type": "code",
   "execution_count": 20,
   "metadata": {},
   "outputs": [
    {
     "data": {
      "text/plain": [
       "(1, 3, 4)"
      ]
     },
     "execution_count": 20,
     "metadata": {},
     "output_type": "execute_result"
    }
   ],
   "source": [
    "s0[1].shape"
   ]
  },
  {
   "cell_type": "code",
   "execution_count": 21,
   "metadata": {},
   "outputs": [
    {
     "data": {
      "text/plain": [
       "[array([[[-1.13140221,  1.03848199, -1.98584581, -1.97593229]],\n",
       " \n",
       "        [[ 0.00628702, -0.18423077, -1.04349705,  0.84990373]],\n",
       " \n",
       "        [[ 0.82248195,  0.83951576,  0.65723661,  0.1725644 ]],\n",
       " \n",
       "        [[ 0.14975801,  0.45796235, -1.62838782,  1.10433102]],\n",
       " \n",
       "        [[ 0.2374883 , -0.87549309, -0.52329361, -1.79837445]]]),\n",
       " array([[[ 2.15362077, -0.29809027, -0.03500702,  0.68361543]],\n",
       " \n",
       "        [[-1.59228147, -2.03043196,  0.06482815,  1.77474184]],\n",
       " \n",
       "        [[ 0.36960297, -0.80892513,  0.88921841,  1.45578956]],\n",
       " \n",
       "        [[-0.13734078, -0.47600138, -0.9266404 ,  0.30273172]],\n",
       " \n",
       "        [[ 0.8444017 , -1.37257443, -0.63250145, -0.38884501]]]),\n",
       " array([[[-1.83352677,  0.61243533,  0.2688316 , -0.62995836]],\n",
       " \n",
       "        [[-0.63042778,  0.10509448,  0.18146381,  1.866664  ]],\n",
       " \n",
       "        [[-0.27371709, -0.91760726,  0.15314121,  1.70789632]],\n",
       " \n",
       "        [[-1.45494555, -0.49969549,  0.52485078,  1.99987088]],\n",
       " \n",
       "        [[-0.52670512, -1.9458443 ,  2.25474277, -0.36156879]]])]"
      ]
     },
     "execution_count": 21,
     "metadata": {},
     "output_type": "execute_result"
    }
   ],
   "source": [
    "s1=np.split (before_split, 3, axis=1)\n",
    "s1"
   ]
  },
  {
   "cell_type": "code",
   "execution_count": 23,
   "metadata": {},
   "outputs": [
    {
     "data": {
      "text/plain": [
       "[array([[[-1.13140221],\n",
       "         [ 2.15362077],\n",
       "         [-1.83352677]],\n",
       " \n",
       "        [[ 0.00628702],\n",
       "         [-1.59228147],\n",
       "         [-0.63042778]],\n",
       " \n",
       "        [[ 0.82248195],\n",
       "         [ 0.36960297],\n",
       "         [-0.27371709]],\n",
       " \n",
       "        [[ 0.14975801],\n",
       "         [-0.13734078],\n",
       "         [-1.45494555]],\n",
       " \n",
       "        [[ 0.2374883 ],\n",
       "         [ 0.8444017 ],\n",
       "         [-0.52670512]]]), array([[[ 1.03848199],\n",
       "         [-0.29809027],\n",
       "         [ 0.61243533]],\n",
       " \n",
       "        [[-0.18423077],\n",
       "         [-2.03043196],\n",
       "         [ 0.10509448]],\n",
       " \n",
       "        [[ 0.83951576],\n",
       "         [-0.80892513],\n",
       "         [-0.91760726]],\n",
       " \n",
       "        [[ 0.45796235],\n",
       "         [-0.47600138],\n",
       "         [-0.49969549]],\n",
       " \n",
       "        [[-0.87549309],\n",
       "         [-1.37257443],\n",
       "         [-1.9458443 ]]]), array([[[-1.98584581],\n",
       "         [-0.03500702],\n",
       "         [ 0.2688316 ]],\n",
       " \n",
       "        [[-1.04349705],\n",
       "         [ 0.06482815],\n",
       "         [ 0.18146381]],\n",
       " \n",
       "        [[ 0.65723661],\n",
       "         [ 0.88921841],\n",
       "         [ 0.15314121]],\n",
       " \n",
       "        [[-1.62838782],\n",
       "         [-0.9266404 ],\n",
       "         [ 0.52485078]],\n",
       " \n",
       "        [[-0.52329361],\n",
       "         [-0.63250145],\n",
       "         [ 2.25474277]]]), array([[[-1.97593229],\n",
       "         [ 0.68361543],\n",
       "         [-0.62995836]],\n",
       " \n",
       "        [[ 0.84990373],\n",
       "         [ 1.77474184],\n",
       "         [ 1.866664  ]],\n",
       " \n",
       "        [[ 0.1725644 ],\n",
       "         [ 1.45578956],\n",
       "         [ 1.70789632]],\n",
       " \n",
       "        [[ 1.10433102],\n",
       "         [ 0.30273172],\n",
       "         [ 1.99987088]],\n",
       " \n",
       "        [[-1.79837445],\n",
       "         [-0.38884501],\n",
       "         [-0.36156879]]])]"
      ]
     },
     "execution_count": 23,
     "metadata": {},
     "output_type": "execute_result"
    }
   ],
   "source": [
    "s2=np.split (before_split, 4, axis=2)\n",
    "s2"
   ]
  },
  {
   "cell_type": "code",
   "execution_count": 38,
   "metadata": {},
   "outputs": [
    {
     "data": {
      "text/plain": [
       "array([[1, 2],\n",
       "       [3, 4]])"
      ]
     },
     "execution_count": 38,
     "metadata": {},
     "output_type": "execute_result"
    }
   ],
   "source": [
    "a = np.array([[1,2],[3,4]])\n",
    "a"
   ]
  },
  {
   "cell_type": "code",
   "execution_count": 42,
   "metadata": {},
   "outputs": [
    {
     "data": {
      "text/plain": [
       "(2, 2)"
      ]
     },
     "execution_count": 42,
     "metadata": {},
     "output_type": "execute_result"
    }
   ],
   "source": [
    "a.shape\n",
    "#np.concatenate((a,a[1]),axis=0)"
   ]
  },
  {
   "cell_type": "code",
   "execution_count": 29,
   "metadata": {},
   "outputs": [
    {
     "data": {
      "text/plain": [
       "(2,)"
      ]
     },
     "execution_count": 29,
     "metadata": {},
     "output_type": "execute_result"
    }
   ],
   "source": [
    "np.shape([1,2])"
   ]
  },
  {
   "cell_type": "code",
   "execution_count": null,
   "metadata": {},
   "outputs": [],
   "source": []
  }
 ],
 "metadata": {
  "anaconda-cloud": {},
  "kernelspec": {
   "display_name": "Python 3",
   "language": "python",
   "name": "python3"
  },
  "language_info": {
   "codemirror_mode": {
    "name": "ipython",
    "version": 3
   },
   "file_extension": ".py",
   "mimetype": "text/x-python",
   "name": "python",
   "nbconvert_exporter": "python",
   "pygments_lexer": "ipython3",
   "version": "3.6.5"
  }
 },
 "nbformat": 4,
 "nbformat_minor": 1
}

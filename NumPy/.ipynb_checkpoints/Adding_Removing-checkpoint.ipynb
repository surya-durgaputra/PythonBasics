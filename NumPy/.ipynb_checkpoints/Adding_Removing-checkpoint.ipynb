{
 "cells": [
  {
   "cell_type": "markdown",
   "metadata": {},
   "source": [
    "# Adding and Removing Elements from NumPy Arrays\n",
    "- append\n",
    "- horizontal stacking\n",
    "- vertical stacking\n",
    "- insert\n",
    "- delete"
   ]
  },
  {
   "cell_type": "code",
   "execution_count": 2,
   "metadata": {},
   "outputs": [],
   "source": [
    "import numpy as np"
   ]
  },
  {
   "cell_type": "code",
   "execution_count": 3,
   "metadata": {},
   "outputs": [
    {
     "data": {
      "text/plain": [
       "array([[[ 0,  1,  2,  3],\n",
       "        [ 4,  5,  6,  7],\n",
       "        [ 8,  9, 10, 11]],\n",
       "\n",
       "       [[12, 13, 14, 15],\n",
       "        [16, 17, 18, 19],\n",
       "        [20, 21, 22, 23]]])"
      ]
     },
     "execution_count": 3,
     "metadata": {},
     "output_type": "execute_result"
    }
   ],
   "source": [
    "a = np.array(np.arange(24)).reshape(2,3,4)\n",
    "a"
   ]
  },
  {
   "cell_type": "code",
   "execution_count": 4,
   "metadata": {},
   "outputs": [],
   "source": [
    "b=np.append(a, [5,6,7,8])\n",
    "#note, numpy append flattens the array"
   ]
  },
  {
   "cell_type": "code",
   "execution_count": 5,
   "metadata": {},
   "outputs": [
    {
     "data": {
      "text/plain": [
       "array([ 0,  1,  2,  3,  4,  5,  6,  7,  8,  9, 10, 11, 12, 13, 14, 15, 16,\n",
       "       17, 18, 19, 20, 21, 22, 23,  5,  6,  7,  8])"
      ]
     },
     "execution_count": 5,
     "metadata": {},
     "output_type": "execute_result"
    }
   ],
   "source": [
    "b"
   ]
  },
  {
   "cell_type": "code",
   "execution_count": 6,
   "metadata": {},
   "outputs": [
    {
     "data": {
      "text/plain": [
       "(28,)"
      ]
     },
     "execution_count": 6,
     "metadata": {},
     "output_type": "execute_result"
    }
   ],
   "source": [
    "b.shape"
   ]
  },
  {
   "cell_type": "code",
   "execution_count": 7,
   "metadata": {},
   "outputs": [
    {
     "data": {
      "text/plain": [
       "array([[ 0,  1,  2,  3],\n",
       "       [ 4,  5,  6,  7],\n",
       "       [ 8,  9, 10, 11],\n",
       "       [12, 13, 14, 15],\n",
       "       [16, 17, 18, 19],\n",
       "       [20, 21, 22, 23],\n",
       "       [ 5,  6,  7,  8]])"
      ]
     },
     "execution_count": 7,
     "metadata": {},
     "output_type": "execute_result"
    }
   ],
   "source": [
    "b.reshape((7,4))"
   ]
  },
  {
   "cell_type": "code",
   "execution_count": 8,
   "metadata": {},
   "outputs": [
    {
     "data": {
      "text/plain": [
       "array([[[ 0,  1,  2,  3],\n",
       "        [ 4,  5,  6,  7],\n",
       "        [ 8,  9, 10, 11]],\n",
       "\n",
       "       [[12, 13, 14, 15],\n",
       "        [16, 17, 18, 19],\n",
       "        [20, 21, 22, 23]]])"
      ]
     },
     "execution_count": 8,
     "metadata": {},
     "output_type": "execute_result"
    }
   ],
   "source": [
    "a"
   ]
  },
  {
   "cell_type": "code",
   "execution_count": 9,
   "metadata": {},
   "outputs": [
    {
     "data": {
      "text/plain": [
       "array([[[  3,  13,  23,  33],\n",
       "        [ 43,  53,  63,  73],\n",
       "        [ 83,  93, 103, 113]],\n",
       "\n",
       "       [[123, 133, 143, 153],\n",
       "        [163, 173, 183, 193],\n",
       "        [203, 213, 223, 233]]])"
      ]
     },
     "execution_count": 9,
     "metadata": {},
     "output_type": "execute_result"
    }
   ],
   "source": [
    "c = np.array(np.arange(24)).reshape(2,3,4) * 10 + 3\n",
    "c"
   ]
  },
  {
   "cell_type": "code",
   "execution_count": 10,
   "metadata": {},
   "outputs": [
    {
     "data": {
      "text/plain": [
       "array([[[  0,   1,   2,   3],\n",
       "        [  4,   5,   6,   7],\n",
       "        [  8,   9,  10,  11]],\n",
       "\n",
       "       [[ 12,  13,  14,  15],\n",
       "        [ 16,  17,  18,  19],\n",
       "        [ 20,  21,  22,  23]],\n",
       "\n",
       "       [[  3,  13,  23,  33],\n",
       "        [ 43,  53,  63,  73],\n",
       "        [ 83,  93, 103, 113]],\n",
       "\n",
       "       [[123, 133, 143, 153],\n",
       "        [163, 173, 183, 193],\n",
       "        [203, 213, 223, 233]]])"
      ]
     },
     "execution_count": 10,
     "metadata": {},
     "output_type": "execute_result"
    }
   ],
   "source": [
    "np.append(a,c, axis=0)"
   ]
  },
  {
   "cell_type": "code",
   "execution_count": 11,
   "metadata": {},
   "outputs": [
    {
     "data": {
      "text/plain": [
       "(4, 3, 4)"
      ]
     },
     "execution_count": 11,
     "metadata": {},
     "output_type": "execute_result"
    }
   ],
   "source": [
    "np.append(a,c, axis=0).shape"
   ]
  },
  {
   "cell_type": "code",
   "execution_count": 12,
   "metadata": {},
   "outputs": [
    {
     "data": {
      "text/plain": [
       "array([[[  0,   1,   2,   3],\n",
       "        [  4,   5,   6,   7],\n",
       "        [  8,   9,  10,  11],\n",
       "        [  3,  13,  23,  33],\n",
       "        [ 43,  53,  63,  73],\n",
       "        [ 83,  93, 103, 113]],\n",
       "\n",
       "       [[ 12,  13,  14,  15],\n",
       "        [ 16,  17,  18,  19],\n",
       "        [ 20,  21,  22,  23],\n",
       "        [123, 133, 143, 153],\n",
       "        [163, 173, 183, 193],\n",
       "        [203, 213, 223, 233]]])"
      ]
     },
     "execution_count": 12,
     "metadata": {},
     "output_type": "execute_result"
    }
   ],
   "source": [
    "np.append(a,c, axis=1)"
   ]
  },
  {
   "cell_type": "code",
   "execution_count": 13,
   "metadata": {},
   "outputs": [
    {
     "data": {
      "text/plain": [
       "(2, 6, 4)"
      ]
     },
     "execution_count": 13,
     "metadata": {},
     "output_type": "execute_result"
    }
   ],
   "source": [
    "np.append(a,c, axis=1).shape"
   ]
  },
  {
   "cell_type": "code",
   "execution_count": 14,
   "metadata": {},
   "outputs": [
    {
     "data": {
      "text/plain": [
       "array([[[  0,   1,   2,   3,   3,  13,  23,  33],\n",
       "        [  4,   5,   6,   7,  43,  53,  63,  73],\n",
       "        [  8,   9,  10,  11,  83,  93, 103, 113]],\n",
       "\n",
       "       [[ 12,  13,  14,  15, 123, 133, 143, 153],\n",
       "        [ 16,  17,  18,  19, 163, 173, 183, 193],\n",
       "        [ 20,  21,  22,  23, 203, 213, 223, 233]]])"
      ]
     },
     "execution_count": 14,
     "metadata": {},
     "output_type": "execute_result"
    }
   ],
   "source": [
    "np.append(a,c, axis=2)"
   ]
  },
  {
   "cell_type": "code",
   "execution_count": 15,
   "metadata": {},
   "outputs": [
    {
     "data": {
      "text/plain": [
       "(2, 3, 8)"
      ]
     },
     "execution_count": 15,
     "metadata": {},
     "output_type": "execute_result"
    }
   ],
   "source": [
    "np.append(a,c, axis=2).shape"
   ]
  },
  {
   "cell_type": "markdown",
   "metadata": {},
   "source": [
    "## hstack is a convenience function\n",
    "* It returns results that are the same as append, and or concatentate.\n",
    "* It is a convenience method because it eliminates one parameter, the axis parameter.\n",
    "* hstack and vstack create a deep copy of the underlying arrays and return a new array.\n",
    "* Please note that in 3D array, hstack refers to axis=1. \n",
    "* Please note that in 3D array, vstack refers to axis=0.\n",
    "* Please note that in 3D array, dstack refers to axis=2.\n",
    "* Easier to visualize hstack and vstack in 2D arrays\n",
    "* In 2D arrays, hstack refers to axis=0 and vstack refers to axis=1\n",
    "## Rule of thumb: For 3D and higher avoid hstack,vstack etc. Use axis=0,1 etc. "
   ]
  },
  {
   "cell_type": "code",
   "execution_count": 30,
   "metadata": {},
   "outputs": [
    {
     "data": {
      "text/plain": [
       "array([[[  0,   1,   2,   3],\n",
       "        [  4,   5,   6,   7],\n",
       "        [  8,   9,  10,  11],\n",
       "        [  3,  13,  23,  33],\n",
       "        [ 43,  53,  63,  73],\n",
       "        [ 83,  93, 103, 113]],\n",
       "\n",
       "       [[ 12,  13,  14,  15],\n",
       "        [ 16,  17,  18,  19],\n",
       "        [ 20,  21,  22,  23],\n",
       "        [123, 133, 143, 153],\n",
       "        [163, 173, 183, 193],\n",
       "        [203, 213, 223, 233]]])"
      ]
     },
     "execution_count": 30,
     "metadata": {},
     "output_type": "execute_result"
    }
   ],
   "source": [
    "my_hay_stack = np.hstack((a,c))\n",
    "my_hay_stack"
   ]
  },
  {
   "cell_type": "code",
   "execution_count": 17,
   "metadata": {},
   "outputs": [],
   "source": [
    "my_hay_stack[0,0,2] = 999\n",
    "# we will see that assigning to an array created by hstack will not modify the arrays used by hstack( a and c)  "
   ]
  },
  {
   "cell_type": "code",
   "execution_count": 18,
   "metadata": {},
   "outputs": [
    {
     "data": {
      "text/plain": [
       "array([[[  0,   1, 999,   3],\n",
       "        [  4,   5,   6,   7],\n",
       "        [  8,   9,  10,  11],\n",
       "        [  3,  13,  23,  33],\n",
       "        [ 43,  53,  63,  73],\n",
       "        [ 83,  93, 103, 113]],\n",
       "\n",
       "       [[ 12,  13,  14,  15],\n",
       "        [ 16,  17,  18,  19],\n",
       "        [ 20,  21,  22,  23],\n",
       "        [123, 133, 143, 153],\n",
       "        [163, 173, 183, 193],\n",
       "        [203, 213, 223, 233]]])"
      ]
     },
     "execution_count": 18,
     "metadata": {},
     "output_type": "execute_result"
    }
   ],
   "source": [
    "my_hay_stack"
   ]
  },
  {
   "cell_type": "code",
   "execution_count": 19,
   "metadata": {},
   "outputs": [
    {
     "data": {
      "text/plain": [
       "array([[[ 0,  1,  2,  3],\n",
       "        [ 4,  5,  6,  7],\n",
       "        [ 8,  9, 10, 11]],\n",
       "\n",
       "       [[12, 13, 14, 15],\n",
       "        [16, 17, 18, 19],\n",
       "        [20, 21, 22, 23]]])"
      ]
     },
     "execution_count": 19,
     "metadata": {},
     "output_type": "execute_result"
    }
   ],
   "source": [
    "a\n",
    "# does not have 999"
   ]
  },
  {
   "cell_type": "code",
   "execution_count": 20,
   "metadata": {},
   "outputs": [
    {
     "data": {
      "text/plain": [
       "array([[[  3,  13,  23,  33],\n",
       "        [ 43,  53,  63,  73],\n",
       "        [ 83,  93, 103, 113]],\n",
       "\n",
       "       [[123, 133, 143, 153],\n",
       "        [163, 173, 183, 193],\n",
       "        [203, 213, 223, 233]]])"
      ]
     },
     "execution_count": 20,
     "metadata": {},
     "output_type": "execute_result"
    }
   ],
   "source": [
    "c\n",
    "# does not have 999"
   ]
  },
  {
   "cell_type": "code",
   "execution_count": 31,
   "metadata": {},
   "outputs": [
    {
     "data": {
      "text/plain": [
       "array([[[  3,  13,  23,  33],\n",
       "        [ 43,  53,  63,  73],\n",
       "        [ 83,  93, 103, 113]],\n",
       "\n",
       "       [[444, 444, 444, 444],\n",
       "        [444, 444, 444, 444],\n",
       "        [444, 444, 444, 444]],\n",
       "\n",
       "       [[123, 133, 143, 153],\n",
       "        [163, 173, 183, 193],\n",
       "        [203, 213, 223, 233]]])"
      ]
     },
     "execution_count": 31,
     "metadata": {},
     "output_type": "execute_result"
    }
   ],
   "source": [
    "# refer to documentation for insert. This is important because the result is not intuitive.\n",
    "# Usually, insert means to place something within an existing data structure.\n",
    "# NumPy's insert function creates a new array with new data.\n",
    "# Also, concerning the obj parameter. You might want to think of this as the where parameter, it indicates \n",
    "# where the information in the values parameter will be inserted within the array.\n",
    "after_insert_array = np.insert (c, 1, 444, axis=0)\n",
    "after_insert_array"
   ]
  },
  {
   "cell_type": "code",
   "execution_count": 22,
   "metadata": {},
   "outputs": [
    {
     "data": {
      "text/plain": [
       "array([[[  3,  13,  23,  33],\n",
       "        [444, 444, 444, 444],\n",
       "        [ 43,  53,  63,  73],\n",
       "        [ 83,  93, 103, 113]],\n",
       "\n",
       "       [[123, 133, 143, 153],\n",
       "        [444, 444, 444, 444],\n",
       "        [163, 173, 183, 193],\n",
       "        [203, 213, 223, 233]]])"
      ]
     },
     "execution_count": 22,
     "metadata": {},
     "output_type": "execute_result"
    }
   ],
   "source": [
    "np.insert (c, 1, 444, axis=1)"
   ]
  },
  {
   "cell_type": "code",
   "execution_count": 23,
   "metadata": {},
   "outputs": [
    {
     "data": {
      "text/plain": [
       "array([[[  3, 444,  13,  23,  33],\n",
       "        [ 43, 444,  53,  63,  73],\n",
       "        [ 83, 444,  93, 103, 113]],\n",
       "\n",
       "       [[123, 444, 133, 143, 153],\n",
       "        [163, 444, 173, 183, 193],\n",
       "        [203, 444, 213, 223, 233]]])"
      ]
     },
     "execution_count": 23,
     "metadata": {},
     "output_type": "execute_result"
    }
   ],
   "source": [
    "np.insert (c, 1, 444, axis=2)"
   ]
  },
  {
   "cell_type": "code",
   "execution_count": 24,
   "metadata": {},
   "outputs": [
    {
     "data": {
      "text/plain": [
       "array([[[  3.,  13.,  23.,  33.],\n",
       "        [ 43.,  53.,  63.,  73.],\n",
       "        [ 83.,  93., 103., 113.]],\n",
       "\n",
       "       [[123., 133., 143., 153.],\n",
       "        [163., 173., 183., 193.],\n",
       "        [203., 213., 223., 233.]]])"
      ]
     },
     "execution_count": 24,
     "metadata": {},
     "output_type": "execute_result"
    }
   ],
   "source": [
    "d = np.empty(c.shape)\n",
    "np.copyto(d, c)\n",
    "d"
   ]
  },
  {
   "cell_type": "code",
   "execution_count": 25,
   "metadata": {},
   "outputs": [
    {
     "data": {
      "text/plain": [
       "array([[[  3.,  13.,  23.,  33.],\n",
       "        [ 43.,  53.,  63.,  73.],\n",
       "        [ 83.,  93., 103., 113.]]])"
      ]
     },
     "execution_count": 25,
     "metadata": {},
     "output_type": "execute_result"
    }
   ],
   "source": [
    "np.delete(d, 1, axis=0)"
   ]
  },
  {
   "cell_type": "code",
   "execution_count": 26,
   "metadata": {},
   "outputs": [
    {
     "data": {
      "text/plain": [
       "array([[[  3.,  13.,  23.,  33.],\n",
       "        [ 83.,  93., 103., 113.]],\n",
       "\n",
       "       [[123., 133., 143., 153.],\n",
       "        [203., 213., 223., 233.]]])"
      ]
     },
     "execution_count": 26,
     "metadata": {},
     "output_type": "execute_result"
    }
   ],
   "source": [
    "np.delete(d, 1, axis=1)"
   ]
  },
  {
   "cell_type": "code",
   "execution_count": 27,
   "metadata": {},
   "outputs": [
    {
     "data": {
      "text/plain": [
       "array([[[  3.,  23.,  33.],\n",
       "        [ 43.,  63.,  73.],\n",
       "        [ 83., 103., 113.]],\n",
       "\n",
       "       [[123., 143., 153.],\n",
       "        [163., 183., 193.],\n",
       "        [203., 223., 233.]]])"
      ]
     },
     "execution_count": 27,
     "metadata": {},
     "output_type": "execute_result"
    }
   ],
   "source": [
    "np.delete(d, 1, axis=2)"
   ]
  },
  {
   "cell_type": "code",
   "execution_count": null,
   "metadata": {},
   "outputs": [],
   "source": []
  }
 ],
 "metadata": {
  "kernelspec": {
   "display_name": "Python 3",
   "language": "python",
   "name": "python3"
  },
  "language_info": {
   "codemirror_mode": {
    "name": "ipython",
    "version": 3
   },
   "file_extension": ".py",
   "mimetype": "text/x-python",
   "name": "python",
   "nbconvert_exporter": "python",
   "pygments_lexer": "ipython3",
   "version": "3.6.5"
  }
 },
 "nbformat": 4,
 "nbformat_minor": 1
}

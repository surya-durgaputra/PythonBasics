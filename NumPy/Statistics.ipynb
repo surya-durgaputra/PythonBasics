{
 "cells": [
  {
   "cell_type": "code",
   "execution_count": 1,
   "metadata": {},
   "outputs": [],
   "source": [
    "%matplotlib inline\n",
    "import scipy as sp\n",
    "import numpy as np\n",
    "import matplotlib.pyplot as plt\n",
    "\n",
    "from scipy.stats import norm "
   ]
  },
  {
   "cell_type": "markdown",
   "metadata": {},
   "source": [
    "#### sample data set "
   ]
  },
  {
   "cell_type": "code",
   "execution_count": 3,
   "metadata": {},
   "outputs": [
    {
     "data": {
      "text/plain": [
       "numpy.ndarray"
      ]
     },
     "execution_count": 3,
     "metadata": {},
     "output_type": "execute_result"
    }
   ],
   "source": [
    "number_of_data_points = 99\n",
    "random_data_set = sp.randn(number_of_data_points) # 99 normal distributed random numbers\n",
    "type(random_data_set)"
   ]
  },
  {
   "cell_type": "code",
   "execution_count": 6,
   "metadata": {},
   "outputs": [
    {
     "data": {
      "text/plain": [
       "-0.05060869865765168"
      ]
     },
     "execution_count": 6,
     "metadata": {},
     "output_type": "execute_result"
    }
   ],
   "source": [
    "# we calculate mean first\n",
    "random_data_set.mean() #ideally the mean should be zero. From Law of Large numbers, the larger the sample size, the closer\n",
    "# mean of the sample to the mean of the population"
   ]
  },
  {
   "cell_type": "code",
   "execution_count": 11,
   "metadata": {},
   "outputs": [
    {
     "data": {
      "text/plain": [
       "0.0010195529992304267"
      ]
     },
     "execution_count": 11,
     "metadata": {},
     "output_type": "execute_result"
    }
   ],
   "source": [
    "number_of_data_points = 1000000\n",
    "random_data_set = sp.randn(number_of_data_points) # 99 normal distributed random numbers\n",
    "random_data_set.mean()"
   ]
  },
  {
   "cell_type": "code",
   "execution_count": 13,
   "metadata": {},
   "outputs": [
    {
     "data": {
      "text/plain": [
       "0.000849526335718579"
      ]
     },
     "execution_count": 13,
     "metadata": {},
     "output_type": "execute_result"
    }
   ],
   "source": [
    "#numpy ndarray does not have a function for median. So we use scipy\n",
    "sp.median(random_data_set) # the median is also close to zero"
   ]
  },
  {
   "cell_type": "code",
   "execution_count": 17,
   "metadata": {},
   "outputs": [
    {
     "data": {
      "text/plain": [
       "array([-4.93260746,  5.14547648])"
      ]
     },
     "execution_count": 17,
     "metadata": {},
     "output_type": "execute_result"
    }
   ],
   "source": [
    "min_max = np.array([random_data_set.min(),random_data_set.max()])\n",
    "min_max \n",
    "#it showed up as array([-4.93260746,  5.14547648])\n",
    "#this means that for this particular dataset, the min value is -4.93260746 standard deviations away from the mean and the max\n",
    "#value is 5.14547648 standard deviations away from the mean"
   ]
  },
  {
   "cell_type": "code",
   "execution_count": 19,
   "metadata": {},
   "outputs": [
    {
     "data": {
      "text/plain": [
       "array([1.00007862, 1.00015724])"
      ]
     },
     "execution_count": 19,
     "metadata": {},
     "output_type": "execute_result"
    }
   ],
   "source": [
    "#spread about the mean. ie, we calculate the standard devition and variance around the mean\n",
    "spread_measures = np.array([sp.std(random_data_set),sp.var(random_data_set)])\n",
    "spread_measures"
   ]
  },
  {
   "cell_type": "code",
   "execution_count": 20,
   "metadata": {},
   "outputs": [
    {
     "data": {
      "text/plain": [
       "DescribeResult(nobs=1000000, minmax=(-4.932607457283178, 5.14547647721999), mean=0.0010195529992304267, variance=1.0001582402187408, skewness=0.0030578255059662326, kurtosis=0.0050901632540121255)"
      ]
     },
     "execution_count": 20,
     "metadata": {},
     "output_type": "execute_result"
    }
   ],
   "source": [
    "#scipy also has a describe function that returns several descriptive statistics\n",
    "sp.stats.describe(random_data_set)"
   ]
  },
  {
   "cell_type": "markdown",
   "metadata": {},
   "source": [
    "### Probability Distributions\n",
    "- continuous distributions\n",
    "    - Normal: norm\n",
    "    - Chi squared: chi2\n",
    "    - Student's T: t\n",
    "    - Uniform: uniform\n",
    "- discrete distributions\n",
    "    - Poisson: poisson\n",
    "    - Binomial: binomial"
   ]
  },
  {
   "cell_type": "markdown",
   "metadata": {},
   "source": [
    "#### Normal Distribution\n",
    "documentation: http://docs.scipy.org/doc/scipy-0.16.0/reference/generated/scipy.stats.norm.html"
   ]
  },
  {
   "cell_type": "code",
   "execution_count": 24,
   "metadata": {},
   "outputs": [
    {
     "name": "stdout",
     "output_type": "stream",
     "text": [
      " 78.24\n",
      "109.79\n",
      "109.94\n",
      "120.42\n",
      " 97.98\n",
      " 80.36\n",
      " 98.79\n",
      "122.38\n"
     ]
    }
   ],
   "source": [
    "iq_mean = 100\n",
    "iq_std_dev = 15\n",
    "iq_distribution = norm(loc=iq_mean, scale=iq_std_dev)\n",
    "#print first 8 values in this distribution \n",
    "#format is 6.2 floating point format meaning 6 spaces with 2 digits included after decimal point. \n",
    "#Note : before format specifier is needed to tell python that the value inside {} is a format specifier\n",
    "for n in np.arange(8):\n",
    "    print('{:6.2f}'.format(iq_distribution.rvs()))\n",
    "    \n",
    "#you can see that most values are close to 100"
   ]
  },
  {
   "cell_type": "code",
   "execution_count": 37,
   "metadata": {},
   "outputs": [
    {
     "data": {
      "image/png": "[encoded data removed]",
      "text/plain": [
       "<Figure size 432x288 with 1 Axes>"
      ]
     },
     "metadata": {},
     "output_type": "display_data"
    }
   ],
   "source": [
    "mu, sigma = 100, 15\n",
    "data_set = mu + sigma * np.random.randn(10000)\n",
    "\n",
    "#histogram of the data\n",
    "n, bins, patches, = plt.hist(data_set, 50, density=1, facecolor='g', alpha=0.75)\n",
    "plt.xlabel('IQ Score')\n",
    "plt.ylabel('Probability')\n",
    "plt.title('Histogram of IQ')\n",
    "plt.text(60,.025,r'$\\mu=100,\\ \\sigma=15$')\n",
    "plt.axis([40,160,0,0.03])\n",
    "plt.grid(True)"
   ]
  },
  {
   "cell_type": "code",
   "execution_count": null,
   "metadata": {},
   "outputs": [],
   "source": []
  }
 ],
 "metadata": {
  "kernelspec": {
   "display_name": "Python 3",
   "language": "python",
   "name": "python3"
  },
  "language_info": {
   "codemirror_mode": {
    "name": "ipython",
    "version": 3
   },
   "file_extension": ".py",
   "mimetype": "text/x-python",
   "name": "python",
   "nbconvert_exporter": "python",
   "pygments_lexer": "ipython3",
   "version": "3.6.5"
  }
 },
 "nbformat": 4,
 "nbformat_minor": 2
}

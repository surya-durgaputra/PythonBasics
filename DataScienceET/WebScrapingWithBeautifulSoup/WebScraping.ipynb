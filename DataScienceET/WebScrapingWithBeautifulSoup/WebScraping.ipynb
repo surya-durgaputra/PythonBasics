{
 "cells": [
  {
   "cell_type": "code",
   "execution_count": null,
   "metadata": {},
   "outputs": [],
   "source": []
  },
  {
   "cell_type": "markdown",
   "metadata": {},
   "source": [
    "#### Four main object types in beautiful soup:\n",
    "- BeautifulSoup object\n",
    "- Tag object\n",
    "- NavigableString object\n",
    "- Comment object"
   ]
  },
  {
   "cell_type": "code",
   "execution_count": 1,
   "metadata": {},
   "outputs": [],
   "source": [
    "from bs4 import BeautifulSoup"
   ]
  },
  {
   "cell_type": "code",
   "execution_count": null,
   "metadata": {},
   "outputs": [],
   "source": []
  },
  {
   "cell_type": "markdown",
   "metadata": {},
   "source": [
    "##### BeautifulSoup object\n",
    "Lets set an HTML document that we want to use as a markup.We'll call that document html_doc"
   ]
  },
  {
   "cell_type": "code",
   "execution_count": 2,
   "metadata": {},
   "outputs": [],
   "source": [
    "html_doc = '''\n",
    "<html><head><title>Best Books</title></head>\n",
    "<body>\n",
    "<p class='title'><b>DATA SCIENCE FOR DUMMIES</b></p>\n",
    "\n",
    "<p class='description'>Jobs in data science abound, but few people have the data science skills needed to fill these increasingly important roles in organizations. Data Science For Dummies is the pe\n",
    "<br><br>\n",
    "Edition 1 of this book:\n",
    "        <br>\n",
    " <ul>\n",
    "  <li>Provides a background in data science fundamentals before moving on to working with relational databases and unstructured data and preparing your data for analysis</li>\n",
    "  <li>Details different data visualization techniques that can be used to showcase and summarize your data</li>\n",
    "  <li>Explains both supervised and unsupervised machine learning, including regression, model validation, and clustering techniques</li>\n",
    "  <li>Includes coverage of big data processing tools like MapReduce, Hadoop, Storm, and Spark</li>   \n",
    "  </ul>\n",
    "<br><br>\n",
    "What to do next:\n",
    "<br>\n",
    "<a href='http://www.data-mania.com/blog/books-by-lillian-pierson/' class = 'preview' id='link 1'>See a preview of the book</a>,\n",
    "<a href='http://www.data-mania.com/blog/data-science-for-dummies-answers-what-is-data-science/' class = 'preview' id='link 2'>get the free pdf download,</a> and then\n",
    "<a href='http://bit.ly/Data-Science-For-Dummies' class = 'preview' id='link 3'>buy the book!</a> \n",
    "</p>\n",
    "\n",
    "<p class='description'>...</p>\n",
    "'''"
   ]
  },
  {
   "cell_type": "code",
   "execution_count": 7,
   "metadata": {},
   "outputs": [
    {
     "name": "stdout",
     "output_type": "stream",
     "text": [
      "\n",
      "<html><head><title>Best Books</title></head>\n",
      "<body>\n",
      "<p class=\"title\"><b>DATA SCIENCE FOR DUMMIES</b></p>\n",
      "<p class=\"description\">Jobs in data science abound, but few people have the data science skills needed to fill these increasingly important roles in organizations. Data Science For Dummies is the pe\n",
      "<br/><br/>\n",
      "Edition 1 of this book:\n",
      "        <br/>\n",
      "<ul>\n",
      "<li>Provides a background in data science fundamentals before moving on to working with relational databases and unstructured data and preparing your data for analysis</li>\n",
      "<li>Details different data visualization techniques that can be used to showcase and summarize your data</li>\n",
      "<li>Explains both supervised and unsupervised machine learning, including regression, model validation, and clustering techniques</li>\n",
      "<li>Includes coverage of big data processing tools like MapReduce, Hadoop, Storm, and Spark</li>\n",
      "</ul>\n",
      "<br/><br/>\n",
      "What to do next:\n",
      "<br/>\n",
      "<a class=\"preview\" href=\"http://www.data-mania.com/blog/books-by-lillian-pierson/\" id=\"link 1\">See a preview of the book</a>,\n",
      "<a class=\"preview\" href=\"http://www.data-mania.com/blog/data-science-for-dummies-answers-what-is-data-science/\" id=\"link 2\">get the free pdf download,</a> and then\n",
      "<a class=\"preview\" href=\"http://bit.ly/Data-Science-For-Dummies\" id=\"link 3\">buy the book!</a>\n",
      "</p>\n",
      "<p class=\"description\">...</p>\n",
      "</body></html>\n"
     ]
    }
   ],
   "source": [
    "# Let's start by looking at the BeautifulSoup constructor.\n",
    "# By default the constructor will attempt to detect what parser type you need,\n",
    "# based on the document object you pass in.\n",
    "# Let's pick a parser for our constructor instead.\n",
    "soup = BeautifulSoup(html_doc,'html.parser')\n",
    "# here html.parser explicitly tells the constructor that we want to use the html parser\n",
    "# soup is going to be a BeautifulSoup object and is going to be a parsed HTML tree\n",
    "# What BeautifulSoup does is it transforms the markup in html_doc into a parse tree,\n",
    "# the markup into a parse tree representing the structure of the document.\n",
    "print(soup)"
   ]
  },
  {
   "cell_type": "code",
   "execution_count": 12,
   "metadata": {},
   "outputs": [
    {
     "name": "stdout",
     "output_type": "stream",
     "text": [
      "<html>\n",
      " <head>\n",
      "  <title>\n",
      "   Best Books\n",
      "  </title>\n",
      " </head>\n",
      " <body>\n",
      "  <p class=\"title\">\n",
      "   <b>\n",
      "    DATA SCIENCE FOR DUMMIES\n",
      "   </b>\n",
      "  </p>\n",
      "  <p class=\"description\">\n",
      "   Jobs in data science abound, but few people have the data science skills needed to fill these increasingly important roles in organizations. Data Science For Dummies is the pe\n",
      "   <br/\n"
     ]
    }
   ],
   "source": [
    "# we see that this is bit difficult to read since there is no structure in the printed \n",
    "# output. Let's prettify it and print the first 350 elements\n",
    "print(soup.prettify()[:350])\n",
    "# And you see it added some structure, which makes it a little easier to read."
   ]
  },
  {
   "cell_type": "markdown",
   "metadata": {},
   "source": [
    "##### Tag Object\n",
    "- A tag object represents HTML or XML elements that are present in the original markup document.\n",
    "- <a href=\"www.google.com\">\n",
    "    - Above is a tag object\n",
    "    - a is the tag name\n",
    "    - href is the tag attribute\n",
    "- Tag objects have two very important features:\n",
    "    - names\n",
    "    - attributes\n",
    "        - You can use attributes to reference, search, and navigate data by tagging BeautifulSoup.\n",
    "\n",
    "We'll first look at name attribute. "
   ]
  },
  {
   "cell_type": "code",
   "execution_count": 14,
   "metadata": {},
   "outputs": [
    {
     "name": "stderr",
     "output_type": "stream",
     "text": [
      "C:\\Users\\AccDEV3\\Anaconda3\\lib\\site-packages\\bs4\\__init__.py:181: UserWarning: No parser was explicitly specified, so I'm using the best available HTML parser for this system (\"lxml\"). This usually isn't a problem, but if you run this code on another system, or in a different virtual environment, it may use a different parser and behave differently.\n",
      "\n",
      "The code that caused this warning is on line 193 of the file C:\\Users\\AccDEV3\\Anaconda3\\lib\\runpy.py. To get rid of this warning, change code that looks like this:\n",
      "\n",
      " BeautifulSoup(YOUR_MARKUP})\n",
      "\n",
      "to this:\n",
      "\n",
      " BeautifulSoup(YOUR_MARKUP, \"lxml\")\n",
      "\n",
      "  markup_type=markup_type))\n"
     ]
    }
   ],
   "source": [
    "# Let's create a BeautifulSoup object, and again, call it soup.\n",
    "# We'll call our BeautifulSoup constructor, and then we're going to pass in\n",
    "# a body element from our HTML document.\n",
    "# I'm going to type that in, so it's going to be b body, and then we'll put a description,\n",
    "# and then we want product description, and close the tag, and then we'll say html.\n",
    "# When we pass in the HTML argument, it tells the constructor that it should\n",
    "# interpret the tag as HTML markup.\n",
    "# For explanation, we will look at b tag. This is a bad example because this\n",
    "# is more like xml and not html. \n",
    "soup = BeautifulSoup('<b body=\"description\">Product Description</b>','html')\n",
    "# Ignore the warning for this example."
   ]
  },
  {
   "cell_type": "code",
   "execution_count": 16,
   "metadata": {},
   "outputs": [
    {
     "data": {
      "text/plain": [
       "bs4.element.Tag"
      ]
     },
     "execution_count": 16,
     "metadata": {},
     "output_type": "execute_result"
    }
   ],
   "source": [
    "# Next, we will create a tag variable, and set it equal to the soup.b\n",
    "tag = soup.b\n",
    "# This essentially tells BeautifulSoup that the tag's name is b, a reference to the HTML we passed in.\n",
    "type(tag)\n",
    "# we can see that we get back a bs4.element.Tag identifier for our tag object."
   ]
  },
  {
   "cell_type": "code",
   "execution_count": 19,
   "metadata": {},
   "outputs": [
    {
     "name": "stdout",
     "output_type": "stream",
     "text": [
      "<b body=\"description\">Product Description</b>\n"
     ]
    }
   ],
   "source": [
    "# Let's print this tag, we'll say print tag, and this is our tag, it's the HTML\n",
    "# we passed into the BeautifulSoup constructor.\n",
    "print(tag)"
   ]
  },
  {
   "cell_type": "code",
   "execution_count": 20,
   "metadata": {},
   "outputs": [
    {
     "data": {
      "text/plain": [
       "'b'"
      ]
     },
     "execution_count": 20,
     "metadata": {},
     "output_type": "execute_result"
    }
   ],
   "source": [
    "tag.name\n",
    "# So, when we say tag.name, it returns a string that reads b.\n",
    "# because this is the name of the tag."
   ]
  },
  {
   "cell_type": "code",
   "execution_count": 23,
   "metadata": {},
   "outputs": [
    {
     "name": "stdout",
     "output_type": "stream",
     "text": [
      "<bestbooks body=\"description\">Product Description</bestbooks>\n",
      "bestbooks\n"
     ]
    }
   ],
   "source": [
    "# And, if you want to replace the name b with best books instead, you could just say tag.name,\n",
    "# and set the name as best books.\n",
    "tag.name = 'bestbooks'\n",
    "print(tag)\n",
    "# again note that the example looks more like xml element and not HTML element\n",
    "print(tag.name)"
   ]
  },
  {
   "cell_type": "markdown",
   "metadata": {},
   "source": [
    "##### Now, let's look at working with attributes.\n",
    "A tag can have any variety of attributes, you can access a tag's attributes by treating the tag like a dictionary. For example, if we write tag and select body and run this, it returns a string that reads description. That is directly from the markup we passed into the BeautifulSoup constructor. "
   ]
  },
  {
   "cell_type": "code",
   "execution_count": 24,
   "metadata": {},
   "outputs": [
    {
     "data": {
      "text/plain": [
       "'description'"
      ]
     },
     "execution_count": 24,
     "metadata": {},
     "output_type": "execute_result"
    }
   ],
   "source": [
    "tag['body']"
   ]
  },
  {
   "cell_type": "markdown",
   "metadata": {},
   "source": [
    "To return a dictionary that contains all of the tag's attributes, you can access that directly using the attrs method. We'll write the name of our tag, and then call attrs off of it. And as you can see here, we have one tag called body, and it's value is description."
   ]
  },
  {
   "cell_type": "code",
   "execution_count": 27,
   "metadata": {},
   "outputs": [
    {
     "data": {
      "text/plain": [
       "{'body': 'description'}"
      ]
     },
     "execution_count": 27,
     "metadata": {},
     "output_type": "execute_result"
    }
   ],
   "source": [
    "tag.attrs"
   ]
  },
  {
   "cell_type": "markdown",
   "metadata": {},
   "source": [
    "You can easily add an attribute to a tag by simply attaching a attribute label to the tag object, and setting it equal to some value."
   ]
  },
  {
   "cell_type": "code",
   "execution_count": 29,
   "metadata": {},
   "outputs": [
    {
     "name": "stdout",
     "output_type": "stream",
     "text": [
      "{'body': 'description', 'id': 3}\n",
      "<bestbooks body=\"description\" id=\"3\">Product Description</bestbooks>\n"
     ]
    }
   ],
   "source": [
    "tag['id'] = 3\n",
    "print(tag.attrs)\n",
    "print(tag)"
   ]
  },
  {
   "cell_type": "markdown",
   "metadata": {},
   "source": [
    "To delete an attribute from the tag, just say del and write the attribute name you want to delete."
   ]
  },
  {
   "cell_type": "code",
   "execution_count": 30,
   "metadata": {},
   "outputs": [
    {
     "data": {
      "text/plain": [
       "<bestbooks>Product Description</bestbooks>"
      ]
     },
     "execution_count": 30,
     "metadata": {},
     "output_type": "execute_result"
    }
   ],
   "source": [
    "del tag['body']\n",
    "del tag['id']\n",
    "tag"
   ]
  },
  {
   "cell_type": "markdown",
   "metadata": {},
   "source": [
    "We can call the attrs method now and all we'll get back is an empty dictionary, meaning that we successfully deleted all of our attributes."
   ]
  },
  {
   "cell_type": "code",
   "execution_count": 31,
   "metadata": {},
   "outputs": [
    {
     "data": {
      "text/plain": [
       "{}"
      ]
     },
     "execution_count": 31,
     "metadata": {},
     "output_type": "execute_result"
    }
   ],
   "source": [
    "tag.attrs"
   ]
  },
  {
   "cell_type": "markdown",
   "metadata": {},
   "source": [
    "#### use tags to navigate a parse tree\n",
    "Now, let's look at how to use tags to navigate a parse tree.\n",
    "\n",
    "To navigate to a specific portion of the tree, simply write the name of the tag you're interested in."
   ]
  },
  {
   "cell_type": "code",
   "execution_count": 32,
   "metadata": {},
   "outputs": [],
   "source": [
    "#we'll recreate the parse tree we created earlier\n",
    "soup = BeautifulSoup(html_doc,'html.parser')"
   ]
  },
  {
   "cell_type": "code",
   "execution_count": 34,
   "metadata": {},
   "outputs": [
    {
     "data": {
      "text/plain": [
       "<title>Best Books</title>"
      ]
     },
     "execution_count": 34,
     "metadata": {},
     "output_type": "execute_result"
    }
   ],
   "source": [
    "# Now, to retrieve certain tags from within the parse tree, \n",
    "# all you have to do is write the name of the tag.\n",
    "soup.title"
   ]
  },
  {
   "cell_type": "markdown",
   "metadata": {},
   "source": [
    "If you want to pull up the name of the book, well let's look and see what part of the tree it's located in. Primarily, it's located in the body tag, but more specifically, it's located within the b tag."
   ]
  },
  {
   "cell_type": "code",
   "execution_count": 35,
   "metadata": {},
   "outputs": [
    {
     "data": {
      "text/plain": [
       "<b>DATA SCIENCE FOR DUMMIES</b>"
      ]
     },
     "execution_count": 35,
     "metadata": {},
     "output_type": "execute_result"
    }
   ],
   "source": [
    "soup.body.b"
   ]
  },
  {
   "cell_type": "markdown",
   "metadata": {},
   "source": [
    "to retrieve the first tag on the HTML document that contains a web link:"
   ]
  },
  {
   "cell_type": "code",
   "execution_count": 39,
   "metadata": {},
   "outputs": [
    {
     "data": {
      "text/plain": [
       "<a class=\"preview\" href=\"http://www.data-mania.com/blog/books-by-lillian-pierson/\" id=\"link 1\">See a preview of the book</a>"
      ]
     },
     "execution_count": 39,
     "metadata": {},
     "output_type": "execute_result"
    }
   ],
   "source": [
    "soup.a"
   ]
  },
  {
   "cell_type": "markdown",
   "metadata": {},
   "source": [
    "### NavigableString object"
   ]
  },
  {
   "cell_type": "markdown",
   "metadata": {},
   "source": [
    "NavigableString objects are the strings contained within a tag object.\n",
    "\n",
    "For example: \"<b>Hello World</b>\"\n",
    "Here, \"Hello World\" will constitute the navigable string object inside the b tag object."
   ]
  },
  {
   "cell_type": "code",
   "execution_count": null,
   "metadata": {},
   "outputs": [],
   "source": []
  }
 ],
 "metadata": {
  "kernelspec": {
   "display_name": "Python 3",
   "language": "python",
   "name": "python3"
  },
  "language_info": {
   "codemirror_mode": {
    "name": "ipython",
    "version": 3
   },
   "file_extension": ".py",
   "mimetype": "text/x-python",
   "name": "python",
   "nbconvert_exporter": "python",
   "pygments_lexer": "ipython3",
   "version": "3.6.5"
  }
 },
 "nbformat": 4,
 "nbformat_minor": 2
}
